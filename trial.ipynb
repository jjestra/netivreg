{
 "cells": [
  {
   "cell_type": "code",
   "execution_count": null,
   "metadata": {},
   "outputs": [],
   "source": [
    "import stata_setup\n",
    "stata_setup.config('C:/Program Files/Stata17/','mp')"
   ]
  },
  {
   "cell_type": "code",
   "execution_count": null,
   "metadata": {},
   "outputs": [],
   "source": [
    "%%stata\n",
    "use \"C:/Users/djachoc/Documents/GitHub/netivreg/data/data_sim.dta\", replace\n",
    "frame create edges\n",
    "frame edges: use \"C:/Users/djachoc/Documents/GitHub/netivreg/data/W_sim.dta\"\n",
    "netivreg g3sls y_exo x1 x2 x3 x4 (edges = edges)"
   ]
  },
  {
   "cell_type": "code",
   "execution_count": null,
   "metadata": {},
   "outputs": [],
   "source": [
    "%%stata\n",
    "use \"C:/Users/djachoc/Documents/GitHub/netivreg/data/articles.dta\", replace\n",
    "gen citations = exp(lcitations)\n",
    "tabulate journal year, summarize(citations)\n",
    "summarize editor diff_gender isolated n_pages n_authors n_references"
   ]
  },
  {
   "cell_type": "code",
   "execution_count": null,
   "metadata": {},
   "outputs": [],
   "source": [
    "%%stata\n",
    "frame reset\n",
    "frame create edges1\n",
    "frame edges1: use \"C:/Users/djachoc/Documents/GitHub/netivreg/data/edges.dta\"\n",
    "frame edges1: list in 1/5, table"
   ]
  },
  {
   "cell_type": "code",
   "execution_count": null,
   "metadata": {},
   "outputs": [],
   "source": [
    "%%stata\n",
    "#frame reset\n",
    "frame create edges2\n",
    "frame edges2: use \"C:/Users/djachoc/Documents/GitHub/netivreg/data/edges0.dta\"\n",
    "frame edges2: list in 1/5, table"
   ]
  },
  {
   "cell_type": "code",
   "execution_count": null,
   "metadata": {},
   "outputs": [],
   "source": [
    "%%stata\n",
    "use \"C:/Users/djachoc/Documents/GitHub/netivreg/data/articles.dta\", replace\n",
    "tabulate journal, g(journal)\n",
    "tabulate year, g(year)"
   ]
  },
  {
   "cell_type": "code",
   "execution_count": null,
   "metadata": {},
   "outputs": [],
   "source": [
    "%%stata\n",
    "netivreg g3sls lcitations editor diff_gender n_pages n_authors n_references isolated journal2-journal4 year2-year3 (edges1 = edges2), wx(editor diff_gender) cluster(c_coauthor)"
   ]
  },
  {
   "cell_type": "code",
   "execution_count": null,
   "metadata": {},
   "outputs": [],
   "source": [
    "%%stata\n",
    "use \"C:/Users/djachoc/Documents/GitHub/netivreg/data/articles.dta\", replace\n",
    "quietly tabulate journal, g(journal)\n",
    "quietly tabulate year, g(year)\n",
    "frame create edges3\n",
    "frame edges1: use \"C:/Users/djachoc/Documents/GitHub/netivreg/data/edges.dta\"\n",
    "frame create edges4\n",
    "frame edges2: use \"C:/Users/djachoc/Documents/GitHub/netivreg/data/edges0.dta\"\n",
    "netivreg g3sls lcitations editor diff_gender n_pages n_authors n_references isolated journal2-journal4 year2-year3 (edges1 = edges2), wx(editor diff_gender) cluster(c_coauthor)"
   ]
  },
  {
   "cell_type": "code",
   "execution_count": null,
   "metadata": {},
   "outputs": [],
   "source": []
  }
 ],
 "metadata": {
  "interpreter": {
   "hash": "ac59ebe37160ed0dfa835113d9b8498d9f09ceb179beaac4002f036b9467c963"
  },
  "kernelspec": {
   "display_name": "Python 3.9.6 64-bit",
   "language": "python",
   "name": "python3"
  },
  "language_info": {
   "codemirror_mode": {
    "name": "ipython",
    "version": 3
   },
   "file_extension": ".py",
   "mimetype": "text/x-python",
   "name": "python",
   "nbconvert_exporter": "python",
   "pygments_lexer": "ipython3",
   "version": "3.12.3"
  },
  "orig_nbformat": 4
 },
 "nbformat": 4,
 "nbformat_minor": 2
}
